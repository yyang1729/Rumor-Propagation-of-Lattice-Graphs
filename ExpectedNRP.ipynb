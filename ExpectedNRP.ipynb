{
 "cells": [
  {
   "cell_type": "code",
   "execution_count": 8,
   "metadata": {},
   "outputs": [],
   "source": [
    "import math\n",
    "import pandas as pd\n",
    "import numpy as np\n",
    "import csv"
   ]
  },
  {
   "cell_type": "code",
   "execution_count": 17,
   "metadata": {},
   "outputs": [],
   "source": [
    "def NRP2E(n):\n",
    "  toreturn = []\n",
    "  for i in range(5):\n",
    "    if i == 0:\n",
    "      d=5\n",
    "    elif i == 1:\n",
    "      d=int(math.log(n))\n",
    "    elif i==2:\n",
    "      d = int(np.cbrt(n))\n",
    "    elif i==3:\n",
    "      d = int(n**(1/2))\n",
    "    else:\n",
    "      d = int(n/10)\n",
    "    \n",
    "    address = './ndata/nrp_N_' + str(n) + '_D_' + str(d)+'.csv'\n",
    "    #print(address)\n",
    "    file = open(address, \"r\")\n",
    "    data = list(csv.reader(file, delimiter=\",\"))\n",
    "    file.close()\n",
    "    file_avg = []\n",
    "    for row in data:\n",
    "      prev = 0\n",
    "      row_data = []\n",
    "      for point in row:\n",
    "        if point == '':\n",
    "          break\n",
    "        curr = int(point)\n",
    "        row_data.append(curr-prev)\n",
    "        prev = curr\n",
    "      row_data.append(n-prev)\n",
    "      avg = sum(row_data)/len(row_data)\n",
    "      file_avg.append(avg)\n",
    "    toreturn.append(sum(file_avg)/len(file_avg))\n",
    "  print(toreturn)\n",
    "\n"
   ]
  },
  {
   "cell_type": "code",
   "execution_count": 18,
   "metadata": {},
   "outputs": [
    {
     "name": "stdout",
     "output_type": "stream",
     "text": [
      "[64.64911386442888, 62.05592815001648, 76.1683130680809, 170.0364357864358, 345.08333333333326]\n"
     ]
    }
   ],
   "source": [
    "NRP2E(1000)"
   ]
  },
  {
   "cell_type": "code",
   "execution_count": 19,
   "metadata": {},
   "outputs": [
    {
     "name": "stdout",
     "output_type": "stream",
     "text": [
      "[64.16632805958142, 66.22835610900265, 83.54699572069842, 202.43534161916514, 538.4285714285714]\n"
     ]
    }
   ],
   "source": [
    "NRP2E(1500)"
   ]
  },
  {
   "cell_type": "code",
   "execution_count": 20,
   "metadata": {},
   "outputs": [
    {
     "name": "stdout",
     "output_type": "stream",
     "text": [
      "[63.70767025672151, 69.8125434543664, 82.60002502024633, 222.9368131868132, 692.190476190476]\n"
     ]
    }
   ],
   "source": [
    "NRP2E(2000)"
   ]
  },
  {
   "cell_type": "code",
   "execution_count": 21,
   "metadata": {},
   "outputs": [
    {
     "name": "stdout",
     "output_type": "stream",
     "text": [
      "[63.96909005418444, 70.85171839856426, 111.40514491480305, 350.5922421456143, 1518.9880952380956]\n"
     ]
    }
   ],
   "source": [
    "NRP2E(5000)"
   ]
  },
  {
   "cell_type": "code",
   "execution_count": null,
   "metadata": {},
   "outputs": [],
   "source": []
  }
 ],
 "metadata": {
  "kernelspec": {
   "display_name": "cs443",
   "language": "python",
   "name": "python3"
  },
  "language_info": {
   "codemirror_mode": {
    "name": "ipython",
    "version": 3
   },
   "file_extension": ".py",
   "mimetype": "text/x-python",
   "name": "python",
   "nbconvert_exporter": "python",
   "pygments_lexer": "ipython3",
   "version": "3.8.16"
  },
  "orig_nbformat": 4,
  "vscode": {
   "interpreter": {
    "hash": "85a64e4429777089c5dfafbde4e414a850815d5040015c4751e96e41b9bbed16"
   }
  }
 },
 "nbformat": 4,
 "nbformat_minor": 2
}
